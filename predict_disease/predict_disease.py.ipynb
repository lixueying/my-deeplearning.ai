{
 "cells": [
  {
   "cell_type": "code",
   "execution_count": 1,
   "metadata": {},
   "outputs": [],
   "source": [
    "%matplotlib inline\n",
    "from __future__ import print_function\n",
    "import collections\n",
    "import math\n",
    "import numpy as np\n",
    "import os\n",
    "import random\n",
    "import tensorflow as tf\n",
    "import zipfile\n",
    "import pandas as pd\n",
    "from matplotlib import pylab\n",
    "from six.moves import range\n",
    "from six.moves.urllib.request import urlretrieve\n",
    "from sklearn.manifold import TSNE\n",
    "import time"
   ]
  },
  {
   "cell_type": "code",
   "execution_count": 3,
   "metadata": {},
   "outputs": [
    {
     "name": "stdout",
     "output_type": "stream",
     "text": [
      "Index(['sbp', 'tobacco', 'ldl', 'adiposity', 'famhist', 'typea', 'obesity',\n",
      "       'alcohol', 'age'],\n",
      "      dtype='object')\n",
      "     sbp  tobacco    ldl  adiposity  famhist  typea  obesity  alcohol  age\n",
      "0    160    12.00   5.73      23.11  Present     49    25.30    97.20   52\n",
      "1    144     0.01   4.41      28.61   Absent     55    28.87     2.06   63\n",
      "2    118     0.08   3.48      32.28  Present     52    29.14     3.81   46\n",
      "3    170     7.50   6.41      38.03  Present     51    31.99    24.26   58\n",
      "4    134    13.60   3.50      27.78  Present     60    25.99    57.34   49\n",
      "5    132     6.20   6.47      36.21  Present     62    30.77    14.14   45\n",
      "6    142     4.05   3.38      16.20   Absent     59    20.81     2.62   38\n",
      "7    114     4.08   4.59      14.60  Present     62    23.11     6.72   58\n",
      "8    114     0.00   3.83      19.40  Present     49    24.86     2.49   29\n",
      "9    132     0.00   5.80      30.96  Present     69    30.11     0.00   53\n",
      "10   206     6.00   2.95      32.27   Absent     72    26.81    56.06   60\n",
      "11   134    14.10   4.44      22.39  Present     65    23.09     0.00   40\n",
      "12   118     0.00   1.88      10.05   Absent     59    21.57     0.00   17\n",
      "13   132     0.00   1.87      17.21   Absent     49    23.63     0.97   15\n",
      "14   112     9.65   2.29      17.20  Present     54    23.53     0.68   53\n",
      "15   117     1.53   2.44      28.95  Present     35    25.89    30.03   46\n",
      "16   120     7.50  15.33      22.00   Absent     60    25.31    34.49   49\n",
      "17   146    10.50   8.29      35.36  Present     78    32.73    13.89   53\n",
      "18   158     2.60   7.46      34.07  Present     61    29.30    53.28   62\n",
      "19   124    14.00   6.23      35.96  Present     45    30.09     0.00   59\n",
      "20   106     1.61   1.74      12.32   Absent     74    20.92    13.37   20\n",
      "21   132     7.90   2.85      26.50  Present     51    26.16    25.71   44\n",
      "22   150     0.30   6.38      33.99  Present     62    24.64     0.00   50\n",
      "23   138     0.60   3.81      28.66   Absent     54    28.70     1.46   58\n",
      "24   142    18.20   4.34      24.38   Absent     61    26.19     0.00   50\n",
      "25   124     4.00  12.42      31.29  Present     54    23.23     2.06   42\n",
      "26   118     6.00   9.65      33.91   Absent     60    38.80     0.00   48\n",
      "27   145     9.10   5.24      27.55   Absent     59    20.96    21.60   61\n",
      "28   144     4.09   5.55      31.40  Present     60    29.43     5.55   56\n",
      "29   146     0.00   6.62      25.69   Absent     60    28.07     8.23   63\n",
      "..   ...      ...    ...        ...      ...    ...      ...      ...  ...\n",
      "432  136     0.00   4.00      19.06   Absent     40    21.94     2.06   16\n",
      "433  120     0.00   2.46      13.39   Absent     47    22.01     0.51   18\n",
      "434  132     0.00   3.55       8.66  Present     61    18.50     3.87   16\n",
      "435  136     0.00   1.77      20.37   Absent     45    21.51     2.06   16\n",
      "436  138     0.00   1.86      18.35  Present     59    25.38     6.51   17\n",
      "437  138     0.06   4.15      20.66   Absent     49    22.59     2.49   16\n",
      "438  130     1.22   3.30      13.65   Absent     50    21.40     3.81   31\n",
      "439  130     4.00   2.40      17.42   Absent     60    22.05     0.00   40\n",
      "440  110     0.00   7.14      28.28   Absent     57    29.00     0.00   32\n",
      "441  120     0.00   3.98      13.19  Present     47    21.89     0.00   16\n",
      "442  166     6.00   8.80      37.89   Absent     39    28.70    43.20   52\n",
      "443  134     0.57   4.75      23.07   Absent     67    26.33     0.00   37\n",
      "444  142     3.00   3.69      25.10   Absent     60    30.08    38.88   27\n",
      "445  136     2.80   2.53       9.28  Present     61    20.70     4.55   25\n",
      "446  142     0.00   4.32      25.22   Absent     47    28.92     6.53   34\n",
      "447  130     0.00   1.88      12.51  Present     52    20.28     0.00   17\n",
      "448  124     1.80   3.74      16.64  Present     42    22.26    10.49   20\n",
      "449  144     4.00   5.03      25.78  Present     57    27.55    90.00   48\n",
      "450  136     1.81   3.31       6.74   Absent     63    19.57    24.94   24\n",
      "451  120     0.00   2.77      13.35   Absent     67    23.37     1.03   18\n",
      "452  154     5.53   3.20      28.81  Present     61    26.15    42.79   42\n",
      "453  124     1.60   7.22      39.68  Present     36    31.50     0.00   51\n",
      "454  146     0.64   4.82      28.02   Absent     60    28.11     8.23   39\n",
      "455  128     2.24   2.83      26.48   Absent     48    23.96    47.42   27\n",
      "456  170     0.40   4.11      42.06  Present     56    33.10     2.06   57\n",
      "457  214     0.40   5.98      31.72   Absent     64    28.45     0.00   58\n",
      "458  182     4.20   4.41      32.10   Absent     52    28.61    18.72   52\n",
      "459  108     3.00   1.59      15.23   Absent     40    20.09    26.64   55\n",
      "460  118     5.40  11.61      30.79   Absent     64    27.35    23.97   40\n",
      "461  132     0.00   4.82      33.41  Present     62    14.70     0.00   46\n",
      "\n",
      "[462 rows x 9 columns]\n"
     ]
    }
   ],
   "source": [
    "# download data\n",
    "raw_data = pd.read_csv('heart.csv')\n",
    "\n",
    "print(raw_data.columns[:9])\n",
    "print(raw_data.loc[:,raw_data.columns[:9]])"
   ]
  },
  {
   "cell_type": "code",
   "execution_count": null,
   "metadata": {},
   "outputs": [],
   "source": []
  }
 ],
 "metadata": {
  "kernelspec": {
   "display_name": "Python 3",
   "language": "python",
   "name": "python3"
  },
  "language_info": {
   "codemirror_mode": {
    "name": "ipython",
    "version": 3
   },
   "file_extension": ".py",
   "mimetype": "text/x-python",
   "name": "python",
   "nbconvert_exporter": "python",
   "pygments_lexer": "ipython3",
   "version": "3.5.2"
  }
 },
 "nbformat": 4,
 "nbformat_minor": 2
}
